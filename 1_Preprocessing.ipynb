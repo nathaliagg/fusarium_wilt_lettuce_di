{
 "cells": [
  {
   "cell_type": "markdown",
   "metadata": {},
   "source": [
    "# Import libraries and load functions"
   ]
  },
  {
   "cell_type": "code",
   "execution_count": 1,
   "metadata": {},
   "outputs": [
    {
     "name": "stdout",
     "output_type": "stream",
     "text": [
      "2021-02-03 11:43:32 AM\n",
      "/Volumes/NGG_TFAILY_LAB_1/Fusarium_wilt_Lettuce/direct_injection/Water_fraction\n"
     ]
    }
   ],
   "source": [
    "import os\n",
    "import datetime\n",
    "import pandas as pd\n",
    "import numpy as np\n",
    "from statsmodels.stats.weightstats import DescrStatsW\n",
    "from functions_metabodirect import *\n",
    "\n",
    "currentDT = datetime.datetime.now()\n",
    "print(currentDT.strftime(\"%Y-%m-%d %H:%M:%S %p\"))\n",
    "print(os.getcwd())"
   ]
  },
  {
   "cell_type": "markdown",
   "metadata": {},
   "source": [
    "# Make project directory"
   ]
  },
  {
   "cell_type": "code",
   "execution_count": 2,
   "metadata": {},
   "outputs": [],
   "source": [
    "project_dir = os.getcwd()\n",
    "project_name = 'MetaboDirect'\n",
    "preprocess_dir = '1_preprocessing_output'\n",
    "diagnostics_dir = '2_diagnostics'\n",
    "exploratory_dir = '3_exploratory'\n",
    "stats_dir = '4_statistics'\n",
    "transf_dir = '5_transformations'\n",
    "\n",
    "list_dir = [\n",
    "    preprocess_dir, diagnostics_dir, exploratory_dir, stats_dir, transf_dir\n",
    "]\n",
    "\n",
    "list_dir = [os.path.join(project_name, x) for x in list_dir]\n",
    "\n",
    "# assert os.path.exists(project_name) == False\n",
    "\n",
    "if not os.path.exists(project_name):\n",
    "    os.makedirs(project_name)\n",
    "\n",
    "for d in list_dir:\n",
    "    if not os.path.exists(d):\n",
    "        os.makedirs(d)"
   ]
  },
  {
   "cell_type": "markdown",
   "metadata": {},
   "source": [
    "# Preprocessing\n",
    "\n",
    "In the preprocessing, we'll take the output from Formularity, a file called `Report.csv`. It's important that you work with the output file from Formularity, and do not modify that file in any way. \n",
    "\n",
    "These are the steps in the preprocessing:\n",
    "\n",
    "1. Filter predicted formulas with 13C\n",
    "2. Optional: filter m/z between a m/z range\n",
    "3. Calculate soil organic C indices and class of compounds\n",
    "5. Calculate a summary output of elemental and class composition per sample\n",
    "5. Calculate a summary output of median and weighted mean of indices per sample\n",
    "6. Make matrix for downstream analyses"
   ]
  },
  {
   "cell_type": "code",
   "execution_count": 3,
   "metadata": {
    "scrolled": false
   },
   "outputs": [
    {
     "name": "stdout",
     "output_type": "stream",
     "text": [
      "Number of m/z: 356751\n"
     ]
    }
   ],
   "source": [
    "df = pd.read_csv('Report.csv')\n",
    "print(f\"Number of m/z: {df.shape[0]}\")"
   ]
  },
  {
   "cell_type": "markdown",
   "metadata": {},
   "source": [
    "## Filter predicted formulas with 13C"
   ]
  },
  {
   "cell_type": "code",
   "execution_count": 4,
   "metadata": {},
   "outputs": [
    {
     "name": "stdout",
     "output_type": "stream",
     "text": [
      "Number of excluded m/z: 39789\n",
      "Number of m/z: 316962\n"
     ]
    }
   ],
   "source": [
    "filt_df, n_excluded = filter_C13(df)\n",
    "\n",
    "print(f\"Number of excluded m/z: {n_excluded}\")\n",
    "print(f\"Number of m/z: {filt_df.shape[0]}\")"
   ]
  },
  {
   "cell_type": "markdown",
   "metadata": {},
   "source": [
    "## Optional: filter m/z between a m/z range"
   ]
  },
  {
   "cell_type": "code",
   "execution_count": 5,
   "metadata": {},
   "outputs": [
    {
     "name": "stdout",
     "output_type": "stream",
     "text": [
      "Number of m/z: 250300\n"
     ]
    }
   ],
   "source": [
    "to_filter = True\n",
    "min_mz, max_mz = 200, 900 # default values\n",
    "filt_df = filter_mz(filt_df, to_filter, min_mz, max_mz) \n",
    "\n",
    "print(f\"Number of m/z: {filt_df.shape[0]}\")"
   ]
  },
  {
   "cell_type": "markdown",
   "metadata": {},
   "source": [
    "## Filter error (ppm) range"
   ]
  },
  {
   "cell_type": "code",
   "execution_count": 6,
   "metadata": {},
   "outputs": [
    {
     "name": "stdout",
     "output_type": "stream",
     "text": [
      "Number of m/z: 230154\n"
     ]
    }
   ],
   "source": [
    "filt_df = filter_error_ppm(filt_df, err_range=0.5)\n",
    "\n",
    "print(f\"Number of m/z: {filt_df.shape[0]}\")"
   ]
  },
  {
   "cell_type": "markdown",
   "metadata": {},
   "source": [
    "## Calculate soil organic C indices and class of compounds\n",
    "\n",
    "Soil organic C indices include: O:C, H:C, NOSC, GFE, DBE, DBE modified, AI, AI modified, and compound classes based on ratios and boundaries by M. Tfaily (we don't consider the calculations by Formularity).\n",
    "\n",
    "These are the boundaries by M. Tfaily:\n",
    "\n",
    "| Class          | O:C (low) | O:C (high)| H:C (low)| H:C (high)|\n",
    "| :------- | :------- | :------- | :------- | :------- |\n",
    "| Lipid          |    >0     |     0.3   |    1.5   |     2.5  | \n",
    "| Unsaturated HC |    0      |     0.125 |    0.8   |    <1.5  |\n",
    "| Condensed HC   |    0      |     0.95  |    0.2   |    <0.8  |\n",
    "| Protein        |    >0.3   |     0.55  |    1.5   |     2.3  |\n",
    "| Amino sugar    |    >0.55  |     0.7   |    1.5   |     2.2  |\n",
    "| Carbohydrate   |    >0.7   |     1.5   |    1.5   |     2.5  |\n",
    "| Lignin         |    >0.125 |     0.65  |    0.8   |    <1.5  |\n",
    "| Tannin         |    >0.65  |     1.1   |    0.8   |    <1.5  |"
   ]
  },
  {
   "cell_type": "code",
   "execution_count": 7,
   "metadata": {},
   "outputs": [],
   "source": [
    "final_df = calculate_ratios(filt_df)\n",
    "final_df = calculate_classes(final_df)\n",
    "final_df = normalize_intensities(final_df)"
   ]
  },
  {
   "cell_type": "code",
   "execution_count": 8,
   "metadata": {},
   "outputs": [],
   "source": [
    "# save preprocessed df\n",
    "filename = os.path.join(project_name, preprocess_dir, 'Report_processed.csv')\n",
    "final_df.to_csv(filename, index=False)\n",
    "\n",
    "# save preprocessed df (removing m/z without a molecular formula)\n",
    "final_df_formulas = final_df[final_df['C']>0]\n",
    "filename = os.path.join(project_name, preprocess_dir, 'Report_processed_MolecFormulas.csv')\n",
    "final_df_formulas.to_csv(filename, index=False)"
   ]
  },
  {
   "cell_type": "markdown",
   "metadata": {},
   "source": [
    "## Calculate a summary output with the percent classes per sample"
   ]
  },
  {
   "cell_type": "code",
   "execution_count": 9,
   "metadata": {},
   "outputs": [],
   "source": [
    "class_comp = get_summary(final_df_formulas, on='Class')\n",
    "el_comp = get_summary(final_df_formulas, on='El_comp')\n",
    "\n",
    "# save class composition\n",
    "filename = os.path.join(project_name, preprocess_dir, 'class_composition.csv')\n",
    "class_comp.to_csv(filename, index=False)\n",
    "\n",
    "# save elemental composition\n",
    "filename = os.path.join(project_name, preprocess_dir, 'elemental_composition.csv')\n",
    "el_comp.to_csv(filename, index=False)"
   ]
  },
  {
   "cell_type": "markdown",
   "metadata": {},
   "source": [
    "## Calculate a summary output of median and weighted mean of indices per sample"
   ]
  },
  {
   "cell_type": "code",
   "execution_count": 10,
   "metadata": {},
   "outputs": [],
   "source": [
    "nosc = get_summary_indices(final_df_formulas, 'NOSC')\n",
    "gfe = get_summary_indices(final_df_formulas, 'GFE')\n",
    "# can do the same for AI, DBE, etc.\n",
    "\n",
    "idx_stats = nosc.merge(gfe, on='SampleID')\n",
    "\n",
    "# save\n",
    "filename = os.path.join(project_name, preprocess_dir, 'indices_statistics.csv')\n",
    "idx_stats.to_csv(filename, index=False)"
   ]
  },
  {
   "cell_type": "markdown",
   "metadata": {},
   "source": [
    "## Make matrix for downstream analyses"
   ]
  },
  {
   "cell_type": "code",
   "execution_count": 11,
   "metadata": {},
   "outputs": [],
   "source": [
    "# matrix = get_matrix(final_df)\n",
    "matrix_formulas = get_matrix(final_df_formulas)\n",
    "\n",
    "# save matrix \n",
    "filename = os.path.join(project_name, preprocess_dir, 'matrix_features.csv')\n",
    "matrix_formulas.to_csv(filename)"
   ]
  },
  {
   "cell_type": "markdown",
   "metadata": {},
   "source": [
    "# Metadata\n",
    "\n",
    "I had to exclude a few samples because they didn't calibrate in Formularity, so I'll just make the metadata from the sample names."
   ]
  },
  {
   "cell_type": "code",
   "execution_count": 12,
   "metadata": {},
   "outputs": [],
   "source": [
    "metadata = pd.DataFrame()\n",
    "\n",
    "samples = get_list_samples(final_df_formulas)\n",
    "metadata['SampleID'] = samples\n",
    "\n",
    "metadata[['Cultivar', 'Time', 'Treatment', 'Tissue', 'Rep']] = ''\n",
    "\n",
    "metadata['Cultivar'] = metadata['SampleID'].str.split('_').str[0]\n",
    "metadata['Cultivar'] = metadata['Cultivar'].replace(['R', 'S', 'Foc'], ['Tolerant', 'Susceptible', 'Fungus'])\n",
    "\n",
    "metadata['Time'] = metadata['SampleID'].str.split('_').str[1]\n",
    "metadata['Time'] = metadata['Time'].replace(['W1', 'W15', 'W2'], ['7 dpi', '10 dpi', '14 dpi'])\n",
    "\n",
    "metadata['Treatment'] = metadata['SampleID'].str.split('_').str[2]\n",
    "metadata['Treatment'] = metadata['Treatment'].replace(['I', 'NI'], ['inoculated', 'healthy'])\n",
    "\n",
    "metadata['Tissue'] = metadata['SampleID'].str.split('_').str[3].str[0]\n",
    "metadata['Tissue'] = metadata['Tissue'].replace(['L', 'R'], ['leaf', 'root'])\n",
    "\n",
    "metadata['Rep'] = metadata['SampleID'].str.split('_').str[3].str[-1]\n",
    "\n",
    "metadata.loc[metadata['SampleID'].str.startswith('Foc'), 'Time'] = '7 dpi'\n",
    "metadata.loc[metadata['SampleID'].str.startswith('Foc'), 'Treatment'] = 'Fungus'\n",
    "metadata.loc[metadata['SampleID'].str.startswith('Foc'), 'Tissue'] = 'Fungus'\n",
    "\n",
    "for i in [0,1,2,3]:\n",
    "    metadata.loc[i, 'Rep'] = i+1\n",
    "    \n",
    "metadata['Names'] = metadata['Cultivar']+' '+metadata['Tissue']+' '+metadata['Treatment']+' '+metadata['Time']\n",
    "\n",
    "for i in [0,1,2,3]:\n",
    "    metadata.loc[i, 'Names'] = 'Fungus 7 dpi'\n",
    "\n",
    "metadata.to_csv('metadata.csv', index=False)"
   ]
  },
  {
   "cell_type": "code",
   "execution_count": null,
   "metadata": {},
   "outputs": [],
   "source": []
  }
 ],
 "metadata": {
  "kernelspec": {
   "display_name": "Python 3",
   "language": "python",
   "name": "python3"
  },
  "language_info": {
   "codemirror_mode": {
    "name": "ipython",
    "version": 3
   },
   "file_extension": ".py",
   "mimetype": "text/x-python",
   "name": "python",
   "nbconvert_exporter": "python",
   "pygments_lexer": "ipython3",
   "version": "3.9.0"
  },
  "toc": {
   "base_numbering": 1,
   "nav_menu": {},
   "number_sections": true,
   "sideBar": true,
   "skip_h1_title": false,
   "title_cell": "Table of Contents",
   "title_sidebar": "Contents",
   "toc_cell": false,
   "toc_position": {
    "height": "calc(100% - 180px)",
    "left": "10px",
    "top": "150px",
    "width": "278.965px"
   },
   "toc_section_display": true,
   "toc_window_display": true
  },
  "varInspector": {
   "cols": {
    "lenName": 16,
    "lenType": 16,
    "lenVar": 40
   },
   "kernels_config": {
    "python": {
     "delete_cmd_postfix": "",
     "delete_cmd_prefix": "del ",
     "library": "var_list.py",
     "varRefreshCmd": "print(var_dic_list())"
    },
    "r": {
     "delete_cmd_postfix": ") ",
     "delete_cmd_prefix": "rm(",
     "library": "var_list.r",
     "varRefreshCmd": "cat(var_dic_list()) "
    }
   },
   "types_to_exclude": [
    "module",
    "function",
    "builtin_function_or_method",
    "instance",
    "_Feature"
   ],
   "window_display": false
  }
 },
 "nbformat": 4,
 "nbformat_minor": 4
}
